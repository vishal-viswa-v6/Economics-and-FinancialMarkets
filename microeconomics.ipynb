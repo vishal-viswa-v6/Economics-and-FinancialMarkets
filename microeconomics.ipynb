{
 "cells": [
  {
   "cell_type": "code",
   "execution_count": 14,
   "id": "477edc67-b95f-4c3f-8f56-ec89376e78bd",
   "metadata": {},
   "outputs": [],
   "source": [
    "import matplotlib.pyplot as plt \n",
    "import numpy as np"
   ]
  },
  {
   "cell_type": "markdown",
   "id": "958d880b-5770-4303-81a7-0a68cb5743e7",
   "metadata": {},
   "source": [
    "# Microeconomics Fundamentals, Vishal Viswa"
   ]
  },
  {
   "cell_type": "markdown",
   "id": "10e40b69-0a32-4969-8317-b8bb829d3200",
   "metadata": {},
   "source": [
    "## Microeconomics is the study of how individuals and institutions make decisions regarding the allocation of scarce resources."
   ]
  },
  {
   "cell_type": "markdown",
   "id": "8175e043-8705-4628-8848-5edf5a6c25e6",
   "metadata": {},
   "source": [
    "### **Scarcity**"
   ]
  },
  {
   "cell_type": "markdown",
   "id": "b070d4c4-73fb-4705-b052-b7ef2d8a62f2",
   "metadata": {},
   "source": [
    "#### Scarcity from an economic standpoint is limited resources such as compute, time and land. How do we make decisions when there is unlimited demand and limited supply? The concept of trade-offs is how decisions are made under scarcity, for example, when choosing between BTC and ETH with a total of 1000 USD in your bank, if you bought 1000 USD worth of BTC, now you do not own any ETH, this is known as opportunity cost. What are you choosing to sacrifice when you pick one option over the other? This is the fundemental logic behind microeconomics and scarcity."
   ]
  },
  {
   "cell_type": "markdown",
   "id": "d35951c5-dd50-4222-a727-fbba6fa43932",
   "metadata": {},
   "source": [
    "#### Economists group scarce resources into four factors of production: \n",
    "* Land \n",
    "* Labor\n",
    "* Capital\n",
    "* Entrepreneurship\n",
    "\n",
    "#### Everything in the economy is created by a combination of these four factors, for example, bitcoin mining consists of land and natural resources such as electricity via power plants, labor such as engineers, capital such as ASIC Miners and entrepreneurs who are in charge of the mining pools and lead the operations. These resources are always limited, you cannot scale infinity and this will force choices. "
   ]
  },
  {
   "cell_type": "markdown",
   "id": "d1842ab4-2a76-4d78-9f57-0f6cc2f877bb",
   "metadata": {},
   "source": [
    "#### Scarce and rival resources: when a resource can be used by a single entity at a time. For example, a GPU can only be used by a single individual at a time whereas natural air & oxygen can be used by billions at any given time. "
   ]
  },
  {
   "cell_type": "markdown",
   "id": "31e1786d-883d-45c2-8fc2-f70ce756eccb",
   "metadata": {},
   "source": [
    "#### Positive statements can be tested, observed and modeled. Normative statements are personal opinions and intuitions. \n",
    "#### Postive Statement: \"Production costs can be decreased, if production volume is increased.\"\n",
    "#### Normative Statement: \"Production would be easier if the trade policies changed.\" "
   ]
  },
  {
   "cell_type": "markdown",
   "id": "39b57800-432b-4dfb-b685-01b7268a7d3b",
   "metadata": {},
   "source": [
    "### **Property Rights and Production Posibilites Curve (PPC)**"
   ]
  },
  {
   "cell_type": "markdown",
   "id": "a29149f3-c167-4eb9-bda8-c6b0fb472515",
   "metadata": {},
   "source": [
    "#### Property rights allow individuals and cooperations to hold rights to anything they have acquired with the legal backing of the government. \n",
    "#### Property rights enable economies to function as means of incentives, voluntary exchange and price discovery. Property rights allow the legal and structured way of trading goods and services, which allow parties to create and compete with the best products and services in the economy. \n",
    "\n"
   ]
  },
  {
   "cell_type": "markdown",
   "id": "bb313c6f-f450-4907-a90b-db4f40d77b73",
   "metadata": {},
   "source": [
    "#### Production Posibilites Curve is amount of goods or services an entity can produce against scarcity, creating a single product or a service can lead to another product or service not produced or produced less. PPC allows economists to calculate the production of goods and services against the compromise made vs other goods and services.   "
   ]
  },
  {
   "cell_type": "markdown",
   "id": "d2b0dc9b-cf42-403d-8d9e-07e00f9513d5",
   "metadata": {},
   "source": [
    "#### Example of PPC: Tesla has a fixed amount of resources per day, say, 1,000 resource units. \n",
    "#### It takes 10 resource units to make 1 Model S | 5 resource units to make 1 Model 3 \n",
    "#### $ 10x + 5y = 1000 $  \n",
    "#### where $x = $ no of model s produced and $y = $ no of model 3 produced"
   ]
  },
  {
   "cell_type": "code",
   "execution_count": 15,
   "id": "c96465c7-271b-4315-95ff-f9b31e1c4d7a",
   "metadata": {},
   "outputs": [
    {
     "data": {
      "image/png": "[encoded data removed]",
      "text/plain": [
       "<Figure size 600x400 with 1 Axes>"
      ]
     },
     "metadata": {},
     "output_type": "display_data"
    }
   ],
   "source": [
    "model_s = 10\n",
    "model_3 = 5\n",
    "total_resource = 1000\n",
    "\n",
    "x = np.linspace(0, total_resource / model_s, 100)\n",
    "y = (total_resource - model_s * x) / model_3 \n",
    "\n",
    "plt.figure(figsize = (6, 4))\n",
    "plt.plot(x, y, label = \"PPC Curve\", color = \"red\")\n",
    "\n",
    "plt.xlabel(\"Model S Cars\")\n",
    "plt.ylabel(\"Model 3 Cars\")\n",
    "plt.title(\"Tesla PPC Curve\")\n",
    "plt.grid(True)\n",
    "plt.legend()\n",
    "plt.xlim(0, total_resources / model_s)\n",
    "plt.xlim(0, total_resources / model_3)\n",
    "plt.show()\n"
   ]
  },
  {
   "cell_type": "markdown",
   "id": "64a3cb15-1556-4b79-a2d5-df5ecd4c94d1",
   "metadata": {},
   "source": [
    "#### Opportunity cost is what you give up when you choose one thing over the other. Everytime a decision is made to pick one over the other, it is value lost because of the choice. "
   ]
  },
  {
   "cell_type": "markdown",
   "id": "13be915e-a13a-45de-b035-0fb88f329cf4",
   "metadata": {},
   "source": [
    "#### Increasing opprtunity cost refers to value of an item increasing in production costs because not all resources are equally efficent at producing everything. "
   ]
  },
  {
   "cell_type": "markdown",
   "id": "f241efc3-3857-447f-b5ce-585c6972e198",
   "metadata": {},
   "source": [
    "### **Comparative Advantage and Trade**"
   ]
  },
  {
   "cell_type": "markdown",
   "id": "c586bde7-91cc-47c4-abe7-98ae8cafb8bf",
   "metadata": {},
   "source": [
    "#### Comparative Advantage is when having two parties producing what they do best is more benificial than a single party being better at everything. This can lead to reduction in opportunity cost in the market as it allows for faster and more resourceful execution of producing products and services."
   ]
  },
  {
   "cell_type": "markdown",
   "id": "4c6e2fe0-f4c1-4177-a090-28529148ae98",
   "metadata": {},
   "source": [
    "### **Demand and Supply**"
   ]
  },
  {
   "cell_type": "markdown",
   "id": "77e2f164-b9a1-4259-bca0-2584de820860",
   "metadata": {},
   "source": [
    "#### Demand is how much of a product people want at a given price. Supply is how much producers are willing to sell at that price."
   ]
  },
  {
   "cell_type": "markdown",
   "id": "fbf17454-e9ca-4bb7-b9f5-cb355a8c0aad",
   "metadata": {},
   "source": [
    "#### If BTC price drops to 20K USD, more buyers show up as demand increases, if BTC goes up to 100K USD, holders might sell more as supply increases."
   ]
  },
  {
   "cell_type": "markdown",
   "id": "2767872a-3dd8-4e39-87d8-c333887304a6",
   "metadata": {},
   "source": [
    "#### Surplus: More supply than demand, price drops. \n",
    "#### Shortage: More demand than supply, price spikes."
   ]
  },
  {
   "cell_type": "markdown",
   "id": "0671c682-d962-4c25-b639-77b0ad19fa32",
   "metadata": {},
   "source": [
    "### **Elasticity** "
   ]
  },
  {
   "cell_type": "markdown",
   "id": "6816d916-e413-457d-b548-8003f2fd5b35",
   "metadata": {},
   "source": [
    "#### Elasticity measures how responsive one thing is when another thing changes. \n",
    "#### Price Elasticity of Demand, PED is as follows: \n",
    "$$ PED = \\frac{\\%\\ \\text{Change in Quantity Demanded}} {\\%\\ \\text{Change in Price}} $$ "
   ]
  },
  {
   "cell_type": "markdown",
   "id": "b45ee1f7-96ef-49ae-8fb0-ea568af357d0",
   "metadata": {},
   "source": [
    "#### Elastic demand changes a lot when price changes. Inelastic demand stays fairly stable even if price changes."
   ]
  },
  {
   "cell_type": "markdown",
   "id": "a6d92898-a928-46f0-a07c-25245b144ff2",
   "metadata": {},
   "source": [
    "#### Assets with more elastic demand tent to be more volatile. Low liquidity and elastic demand results in heavy price impact. Inelastic goods often carry better long-term conviction plays and in elastic markets, negative news results in decrease of demand rapidly."
   ]
  },
  {
   "cell_type": "markdown",
   "id": "eff6295a-9dc7-4af0-aee9-a90d5f36b3ba",
   "metadata": {},
   "source": [
    "### **Market Structures**"
   ]
  },
  {
   "cell_type": "markdown",
   "id": "27689a92-183f-4573-9750-b4c13e8b4570",
   "metadata": {},
   "source": [
    "#### Perfect competition consists of many buyers and sellers, identical products and price that is not able to be influenced. Agricultural commodities like wheat or basic tokens like wrapped ETH across DEXs, where one wETH is like another."
   ]
  },
  {
   "cell_type": "markdown",
   "id": "4972dc9b-e14a-421c-ac3b-74e65c9ff80f",
   "metadata": {},
   "source": [
    "#### Monopolistic competition consists of many sellers with slightly differentiated products with some control over price. Different DeFi platforms like Uniswap vs Sushiswap offer the same functionality but with a different feel, incentives and tokens. "
   ]
  },
  {
   "cell_type": "markdown",
   "id": "57ff564e-e537-4cbd-af7f-ad010ddaac11",
   "metadata": {},
   "source": [
    "#### Oligopoly consists of a few large sellers dominating the market, have huge influence over price and innovation with high barriers to entry. Centralized exchanges such as Binance control a lot of volume and user trust."
   ]
  },
  {
   "cell_type": "markdown",
   "id": "4b861506-69e5-4984-8be1-a54dc652f531",
   "metadata": {},
   "source": [
    "#### Monopoly consists of a single seller controlling the entire market, with total control over the price and with a incredibily high barrier to entry, often regulatory and technological, such as ASML, who dominate the production and distribution of EUV Lithography Machines used in advanced semiconductor manufacturing. "
   ]
  },
  {
   "cell_type": "markdown",
   "id": "eb9767b7-02e4-44c4-b8c4-b57fa233ef9f",
   "metadata": {},
   "source": [
    "### **Economic Efficiency**"
   ]
  },
  {
   "cell_type": "markdown",
   "id": "334fbcef-0156-4c49-8525-b64d044f1f85",
   "metadata": {},
   "source": [
    "#### Economic efficiency happens when resources are allocated in a way that maximizes total benefit to society, meaning no one can be made better off without making someone else worse off."
   ]
  },
  {
   "cell_type": "markdown",
   "id": "3fcbbbc3-ac6b-409c-a1c2-f0f401ffc3e9",
   "metadata": {},
   "source": [
    "#### Allocative efficiency is when goods are distributed based on consumer preferences, where price = marginal cost."
   ]
  },
  {
   "cell_type": "markdown",
   "id": "3f4fa0d6-567f-4820-a611-e0fb4239793f",
   "metadata": {},
   "source": [
    "#### Productive efficiency is when goods are produced at the lowest price possible, no wasted resources, occuring at the PPC curve."
   ]
  },
  {
   "cell_type": "markdown",
   "id": "e8b465df-2889-43e7-b3c0-39853a740186",
   "metadata": {},
   "source": [
    "#### Inefficiencies happen when market failures occur, price floors and when there is a lack of competition."
   ]
  },
  {
   "cell_type": "markdown",
   "id": "af8eabd1-b5e4-4c6e-b063-25015ccd27e7",
   "metadata": {},
   "source": [
    "### **Game Theory**"
   ]
  },
  {
   "cell_type": "markdown",
   "id": "b6368aed-5253-48be-8380-ae2769d9c15d",
   "metadata": {},
   "source": [
    "#### Players are induviduals or entities making decisions. Strategies are choices available to each player. Payoffs are outcomes or rewards from each strategy. Equilibrium is a situation where no player has an incentive to change their strategy - Nash Equilibrium."
   ]
  },
  {
   "cell_type": "markdown",
   "id": "8c433382-8789-4984-ba35-fb1c02b24052",
   "metadata": {},
   "source": [
    "#### Example: Tesla and Toyota both have two choices. They either set a high price or a low price for their vehicles. If both choose high price, they each earn decent profits. If Tesla chooses low price while the competitor stays high, Tesla captures more market share. If both choose low price, they split the market with reduced margins. The dominant strategy here depends on the assumptions on the other players move. "
   ]
  },
  {
   "cell_type": "code",
   "execution_count": null,
   "id": "f5198e67-45d4-46fe-ab7e-86a8b9fa7ef1",
   "metadata": {},
   "outputs": [],
   "source": []
  }
 ],
 "metadata": {
  "kernelspec": {
   "display_name": "Python 3 (ipykernel)",
   "language": "python",
   "name": "python3"
  },
  "language_info": {
   "codemirror_mode": {
    "name": "ipython",
    "version": 3
   },
   "file_extension": ".py",
   "mimetype": "text/x-python",
   "name": "python",
   "nbconvert_exporter": "python",
   "pygments_lexer": "ipython3",
   "version": "3.12.7"
  }
 },
 "nbformat": 4,
 "nbformat_minor": 5
}
