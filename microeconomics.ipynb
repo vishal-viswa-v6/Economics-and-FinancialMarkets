{
 "cells": [
  {
   "cell_type": "markdown",
   "id": "958d880b-5770-4303-81a7-0a68cb5743e7",
   "metadata": {},
   "source": [
    "# Microeconomics, Vishal Viswa"
   ]
  },
  {
   "cell_type": "markdown",
   "id": "10e40b69-0a32-4969-8317-b8bb829d3200",
   "metadata": {},
   "source": [
    "## Microeconomics is the study of how individuals and institutions make decisions regarding the allocation of scarce resources."
   ]
  },
  {
   "cell_type": "markdown",
   "id": "8175e043-8705-4628-8848-5edf5a6c25e6",
   "metadata": {},
   "source": [
    "### **Scarcity**"
   ]
  },
  {
   "cell_type": "markdown",
   "id": "b070d4c4-73fb-4705-b052-b7ef2d8a62f2",
   "metadata": {},
   "source": [
    "#### Scarcity from an economic standpoint is limited resources such as compute, time and land. How do we make decisions when there is unlimited demand and limited supply? The concept of trade-offs is how decisions are made under scarcity, for example, when choosing between BTC and ETH with a total of 1000 USD in your bank, if you bought 1000 USD worth of BTC, you do not own any ETH and this is known as opportunity cost. What are you choosing to sacrifice when you pick one option over the other? This is the fundemental logic behind microeconomics and scarcity."
   ]
  },
  {
   "cell_type": "markdown",
   "id": "d35951c5-dd50-4222-a727-fbba6fa43932",
   "metadata": {},
   "source": [
    "#### Economists group scarce resources into four factors of production: \n",
    "* Land \n",
    "* Labor\n",
    "* Capital\n",
    "* Entrepreneurship\n",
    "\n",
    "#### Everything in the economy is created by a combination of these four factors, for example, bitcoin mining consists of land and natural resources such as electricity via power plants, labor such as engineers, capital such as ASIC Miners and entrepreneurs who are in charge of the mining pools and lead the operations. These resources are always limited, you cannot scale infinity and this will force choices. "
   ]
  },
  {
   "cell_type": "markdown",
   "id": "d1842ab4-2a76-4d78-9f57-0f6cc2f877bb",
   "metadata": {},
   "source": [
    "#### Scarce and rival resources: when a resource can be used by a single entity at a time. For example, a GPU can only be used by a single individual at a time whereas natural air & oxygen can be used by billions at any given time. "
   ]
  },
  {
   "cell_type": "markdown",
   "id": "31e1786d-883d-45c2-8fc2-f70ce756eccb",
   "metadata": {},
   "source": [
    "#### Positive statements can be tested, observed and modeled. Normative statements are personal opinions and intuitions. \n",
    "#### Postive Statement: \"Production costs can be decreased, if production volume is increased.\"\n",
    "#### Normative Statement: \"Production would be easier if the trade policies changed.\" "
   ]
  },
  {
   "cell_type": "markdown",
   "id": "39b57800-432b-4dfb-b685-01b7268a7d3b",
   "metadata": {},
   "source": [
    "### **Property Rights and Production Posibilites Curve (PPC)**"
   ]
  },
  {
   "cell_type": "markdown",
   "id": "a29149f3-c167-4eb9-bda8-c6b0fb472515",
   "metadata": {},
   "source": [
    "#### Property rights allow individuals and cooperations to hold rights to anything they have acquired with the legal backing of the government. \n",
    "#### Property rights enable economies to function as means of incentives, voluntary exchange and price discovery. Property rights allow the legal and structured way of trading goods and services, which allow parties to create and compete with the best products and services in the economy. \n",
    "\n"
   ]
  },
  {
   "cell_type": "markdown",
   "id": "bb313c6f-f450-4907-a90b-db4f40d77b73",
   "metadata": {},
   "source": [
    "#### PPC is "
   ]
  }
 ],
 "metadata": {
  "kernelspec": {
   "display_name": "Python 3 (ipykernel)",
   "language": "python",
   "name": "python3"
  },
  "language_info": {
   "codemirror_mode": {
    "name": "ipython",
    "version": 3
   },
   "file_extension": ".py",
   "mimetype": "text/x-python",
   "name": "python",
   "nbconvert_exporter": "python",
   "pygments_lexer": "ipython3",
   "version": "3.12.7"
  }
 },
 "nbformat": 4,
 "nbformat_minor": 5
}
